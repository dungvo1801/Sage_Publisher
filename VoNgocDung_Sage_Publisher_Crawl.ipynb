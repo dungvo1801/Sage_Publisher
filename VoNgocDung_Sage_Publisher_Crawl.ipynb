{
  "cells": [
    {
      "cell_type": "markdown",
      "metadata": {
        "id": "view-in-github",
        "colab_type": "text"
      },
      "source": [
        "<a href=\"https://colab.research.google.com/github/dungvo1801/Sage_Publisher/blob/main/VoNgocDung_Sage_Publisher_Crawl.ipynb\" target=\"_parent\"><img src=\"https://colab.research.google.com/assets/colab-badge.svg\" alt=\"Open In Colab\"/></a>"
      ]
    },
    {
      "cell_type": "code",
      "execution_count": null,
      "metadata": {
        "id": "HGZ5W4cmHh3-"
      },
      "outputs": [],
      "source": [
        "%pip install google-auth\n",
        "%pip install google-api-python-client"
      ]
    },
    {
      "cell_type": "code",
      "execution_count": null,
      "metadata": {
        "id": "2u8leNisHh4C"
      },
      "outputs": [],
      "source": [
        "%pip install selenium"
      ]
    },
    {
      "cell_type": "code",
      "execution_count": null,
      "metadata": {
        "id": "VbntCEv3Hh4C"
      },
      "outputs": [],
      "source": [
        "%pip install pandas"
      ]
    },
    {
      "cell_type": "code",
      "execution_count": null,
      "metadata": {
        "id": "793ql5zAHh4D"
      },
      "outputs": [],
      "source": [
        "%pip install pygsheets"
      ]
    },
    {
      "cell_type": "code",
      "execution_count": null,
      "metadata": {
        "id": "Mq2wXyi3Hh4D"
      },
      "outputs": [],
      "source": [
        "%pip install BeautifulSoup4"
      ]
    },
    {
      "cell_type": "code",
      "execution_count": null,
      "metadata": {
        "id": "F7bvRo_oHh4D"
      },
      "outputs": [],
      "source": [
        "from selenium import webdriver\n",
        "from selenium.webdriver.common.by import By\n",
        "import base64\n",
        "import requests\n",
        "import time\n",
        "from google.oauth2 import service_account\n",
        "from googleapiclient.discovery import build\n",
        "from googleapiclient.errors import HttpError\n",
        "import io\n",
        "import pandas as pd\n",
        "from googleapiclient.http import MediaIoBaseUpload\n",
        "import pygsheets\n",
        "from selenium.webdriver.chrome.options import Options\n",
        "from selenium.common.exceptions import NoSuchElementException\n",
        "from bs4 import BeautifulSoup"
      ]
    },
    {
      "cell_type": "code",
      "execution_count": null,
      "metadata": {
        "id": "7gMzJtK3Hh4E"
      },
      "outputs": [],
      "source": [
        "driver = webdriver.Chrome()\n",
        "web = []\n",
        "name = []\n",
        "short_name = []\n",
        "issn = []\n",
        "eissn = []\n",
        "impact = []\n",
        "\n",
        "for page in range(0,120):\n",
        "    driver = webdriver.Chrome()\n",
        "    driver.get(f\"https://journals.sagepub.com/action/showPublications?pageSize=100&startPage={page}\")\n",
        "    soup = BeautifulSoup(driver.page_source)\n",
        "    x = soup.find_all('li', class_='clearfix separator search__item')\n",
        "\n",
        "    if len(x) == 0:\n",
        "        print('Hết page')\n",
        "        break\n",
        "\n",
        "    for i in x:\n",
        "        data = i.find('a')\n",
        "        web.append('https://journals.sagepub.com'+str(data['href']))\n",
        "        name.append(data['title'])\n",
        "        short_name.append(str(data['href']).split('/')[-1])\n",
        "        ind = i.find_all('div','meta__row--mobile')\n",
        "        print(len(ind))\n",
        "        issn.append(ind[0].text.split(': ')[-1])\n",
        "        try:\n",
        "            eissn.append(ind[1].text.split(': ')[-1])\n",
        "        except:\n",
        "            eissn.append('')\n",
        "    driver.quit()\n",
        "\n"
      ]
    },
    {
      "cell_type": "code",
      "execution_count": null,
      "metadata": {
        "id": "T9IfdtFKHh4F"
      },
      "outputs": [],
      "source": [
        "for i in web:\n",
        "    driver = webdriver.Chrome()\n",
        "    driver.get(i)\n",
        "    x = BeautifulSoup(driver.page_source)\n",
        "    imp = x.find('span',class_='impact-factor__text')\n",
        "    try:\n",
        "        impact.append(imp.text.split(':')[1])\n",
        "    except:\n",
        "        impact.append('')\n",
        "\n",
        "\n",
        "    driver.quit()"
      ]
    },
    {
      "cell_type": "code",
      "execution_count": null,
      "metadata": {
        "id": "G2jRtNa1Hh4F"
      },
      "outputs": [],
      "source": [
        "df = pd.DataFrame({'Tên tạp chí':name,'ISSN':issn,'eISSN':eissn,'Tên viết tắt':short_name,'Impact Factor':impact})"
      ]
    },
    {
      "cell_type": "code",
      "execution_count": null,
      "metadata": {
        "id": "VfUEzwa2Hh4G"
      },
      "outputs": [],
      "source": [
        "df['Tên tạp chí'] = df['Tên tạp chí'].str.replace('Go to ', '')"
      ]
    },
    {
      "cell_type": "code",
      "execution_count": null,
      "metadata": {
        "id": "kmhyLXo1Hh4G"
      },
      "outputs": [],
      "source": [
        "df = df.reset_index(drop=True)\n",
        "df.index += 1"
      ]
    },
    {
      "cell_type": "code",
      "execution_count": null,
      "metadata": {
        "id": "JP6PMcOaHh4G",
        "outputId": "cdf98846-89c9-4faa-a01c-5640284d71fe"
      },
      "outputs": [
        {
          "data": {
            "text/html": [
              "<div>\n",
              "<style scoped>\n",
              "    .dataframe tbody tr th:only-of-type {\n",
              "        vertical-align: middle;\n",
              "    }\n",
              "\n",
              "    .dataframe tbody tr th {\n",
              "        vertical-align: top;\n",
              "    }\n",
              "\n",
              "    .dataframe thead th {\n",
              "        text-align: right;\n",
              "    }\n",
              "</style>\n",
              "<table border=\"1\" class=\"dataframe\">\n",
              "  <thead>\n",
              "    <tr style=\"text-align: right;\">\n",
              "      <th></th>\n",
              "      <th>Tên tạp chí</th>\n",
              "      <th>ISSN</th>\n",
              "      <th>eISSN</th>\n",
              "      <th>Tên viết tắt</th>\n",
              "      <th>Impact Factor</th>\n",
              "    </tr>\n",
              "  </thead>\n",
              "  <tbody>\n",
              "    <tr>\n",
              "      <th>1</th>\n",
              "      <td>AATCC Journal of Research</td>\n",
              "      <td>2472-3444</td>\n",
              "      <td>2330-5517</td>\n",
              "      <td>aata</td>\n",
              "      <td>0.7</td>\n",
              "    </tr>\n",
              "    <tr>\n",
              "      <th>2</th>\n",
              "      <td>About Campus</td>\n",
              "      <td>1086-4822</td>\n",
              "      <td>1536-0687</td>\n",
              "      <td>acaa</td>\n",
              "      <td></td>\n",
              "    </tr>\n",
              "    <tr>\n",
              "      <th>3</th>\n",
              "      <td>Abstracts in Anthropology</td>\n",
              "      <td>0001-3455</td>\n",
              "      <td>1557-5136</td>\n",
              "      <td>aaxa</td>\n",
              "      <td></td>\n",
              "    </tr>\n",
              "    <tr>\n",
              "      <th>4</th>\n",
              "      <td>Academic Forensic Pathology</td>\n",
              "      <td>1925-3621</td>\n",
              "      <td>1925-3621</td>\n",
              "      <td>afpa</td>\n",
              "      <td></td>\n",
              "    </tr>\n",
              "    <tr>\n",
              "      <th>5</th>\n",
              "      <td>Accounting History</td>\n",
              "      <td>1032-3732</td>\n",
              "      <td>1749-3374</td>\n",
              "      <td>acha</td>\n",
              "      <td>1.0</td>\n",
              "    </tr>\n",
              "    <tr>\n",
              "      <th>6</th>\n",
              "      <td>Acta Radiologica</td>\n",
              "      <td>0284-1851</td>\n",
              "      <td>1600-0455</td>\n",
              "      <td>acrc</td>\n",
              "      <td>1.3</td>\n",
              "    </tr>\n",
              "    <tr>\n",
              "      <th>7</th>\n",
              "      <td>Acta Radiologica Open</td>\n",
              "      <td>2058-4601</td>\n",
              "      <td>2058-4601</td>\n",
              "      <td>arrb</td>\n",
              "      <td>1.1</td>\n",
              "    </tr>\n",
              "    <tr>\n",
              "      <th>8</th>\n",
              "      <td>Acta Sociologica</td>\n",
              "      <td>0001-6993</td>\n",
              "      <td>1502-3869</td>\n",
              "      <td>asja</td>\n",
              "      <td>1.7</td>\n",
              "    </tr>\n",
              "    <tr>\n",
              "      <th>9</th>\n",
              "      <td>Action Research</td>\n",
              "      <td>1476-7503</td>\n",
              "      <td>1741-2617</td>\n",
              "      <td>arja</td>\n",
              "      <td>1.9</td>\n",
              "    </tr>\n",
              "    <tr>\n",
              "      <th>10</th>\n",
              "      <td>Active Learning in Higher Education</td>\n",
              "      <td>1469-7874</td>\n",
              "      <td>1741-2625</td>\n",
              "      <td>alha</td>\n",
              "      <td>5.0</td>\n",
              "    </tr>\n",
              "  </tbody>\n",
              "</table>\n",
              "</div>"
            ],
            "text/plain": [
              "                            Tên tạp chí       ISSN      eISSN Tên viết tắt  \\\n",
              "1             AATCC Journal of Research  2472-3444  2330-5517         aata   \n",
              "2                          About Campus  1086-4822  1536-0687         acaa   \n",
              "3             Abstracts in Anthropology  0001-3455  1557-5136         aaxa   \n",
              "4           Academic Forensic Pathology  1925-3621  1925-3621         afpa   \n",
              "5                    Accounting History  1032-3732  1749-3374         acha   \n",
              "6                      Acta Radiologica  0284-1851  1600-0455         acrc   \n",
              "7                 Acta Radiologica Open  2058-4601  2058-4601         arrb   \n",
              "8                      Acta Sociologica  0001-6993  1502-3869         asja   \n",
              "9                       Action Research  1476-7503  1741-2617         arja   \n",
              "10  Active Learning in Higher Education  1469-7874  1741-2625         alha   \n",
              "\n",
              "   Impact Factor  \n",
              "1           0.7   \n",
              "2                 \n",
              "3                 \n",
              "4                 \n",
              "5           1.0   \n",
              "6           1.3   \n",
              "7           1.1   \n",
              "8           1.7   \n",
              "9           1.9   \n",
              "10          5.0   "
            ]
          },
          "execution_count": 49,
          "metadata": {},
          "output_type": "execute_result"
        }
      ],
      "source": [
        "df.head(10)"
      ]
    },
    {
      "cell_type": "code",
      "execution_count": null,
      "metadata": {
        "id": "-PQtP4XsHh4G",
        "outputId": "ab5503f7-1c8d-4bf9-b707-34239675d423"
      },
      "outputs": [
        {
          "data": {
            "text/html": [
              "<div>\n",
              "<style scoped>\n",
              "    .dataframe tbody tr th:only-of-type {\n",
              "        vertical-align: middle;\n",
              "    }\n",
              "\n",
              "    .dataframe tbody tr th {\n",
              "        vertical-align: top;\n",
              "    }\n",
              "\n",
              "    .dataframe thead th {\n",
              "        text-align: right;\n",
              "    }\n",
              "</style>\n",
              "<table border=\"1\" class=\"dataframe\">\n",
              "  <thead>\n",
              "    <tr style=\"text-align: right;\">\n",
              "      <th></th>\n",
              "      <th>Tên tạp chí</th>\n",
              "      <th>ISSN</th>\n",
              "      <th>eISSN</th>\n",
              "      <th>Tên viết tắt</th>\n",
              "      <th>Impact Factor</th>\n",
              "    </tr>\n",
              "  </thead>\n",
              "  <tbody>\n",
              "    <tr>\n",
              "      <th>count</th>\n",
              "      <td>1193</td>\n",
              "      <td>1193</td>\n",
              "      <td>1193</td>\n",
              "      <td>1193</td>\n",
              "      <td>1193</td>\n",
              "    </tr>\n",
              "    <tr>\n",
              "      <th>unique</th>\n",
              "      <td>1193</td>\n",
              "      <td>1193</td>\n",
              "      <td>1182</td>\n",
              "      <td>1193</td>\n",
              "      <td>92</td>\n",
              "    </tr>\n",
              "    <tr>\n",
              "      <th>top</th>\n",
              "      <td>AATCC Journal of Research</td>\n",
              "      <td>2472-3444</td>\n",
              "      <td></td>\n",
              "      <td>aata</td>\n",
              "      <td></td>\n",
              "    </tr>\n",
              "    <tr>\n",
              "      <th>freq</th>\n",
              "      <td>1</td>\n",
              "      <td>1</td>\n",
              "      <td>12</td>\n",
              "      <td>1</td>\n",
              "      <td>292</td>\n",
              "    </tr>\n",
              "  </tbody>\n",
              "</table>\n",
              "</div>"
            ],
            "text/plain": [
              "                      Tên tạp chí       ISSN eISSN Tên viết tắt Impact Factor\n",
              "count                        1193       1193  1193         1193          1193\n",
              "unique                       1193       1193  1182         1193            92\n",
              "top     AATCC Journal of Research  2472-3444               aata              \n",
              "freq                            1          1    12            1           292"
            ]
          },
          "execution_count": 50,
          "metadata": {},
          "output_type": "execute_result"
        }
      ],
      "source": [
        "df.describe()"
      ]
    },
    {
      "cell_type": "code",
      "execution_count": null,
      "metadata": {
        "id": "CucIHISbHh4H",
        "outputId": "852dcab8-9ad1-443e-ca8e-dbaf45b8f4a0"
      },
      "outputs": [
        {
          "name": "stdout",
          "output_type": "stream",
          "text": [
            "Collecting openpyxlNote: you may need to restart the kernel to use updated packages.\n",
            "\n",
            "  Downloading openpyxl-3.1.2-py2.py3-none-any.whl (249 kB)\n",
            "                                              0.0/250.0 kB ? eta -:--:--\n",
            "     ---------                               61.4/250.0 kB 1.1 MB/s eta 0:00:01\n",
            "     -------------------------------------  245.8/250.0 kB 2.5 MB/s eta 0:00:01\n",
            "     -------------------------------------  245.8/250.0 kB 2.5 MB/s eta 0:00:01\n",
            "     -------------------------------------  245.8/250.0 kB 2.5 MB/s eta 0:00:01\n",
            "     -------------------------------------- 250.0/250.0 kB 1.2 MB/s eta 0:00:00\n",
            "Collecting et-xmlfile (from openpyxl)\n",
            "  Downloading et_xmlfile-1.1.0-py3-none-any.whl (4.7 kB)\n",
            "Installing collected packages: et-xmlfile, openpyxl\n",
            "Successfully installed et-xmlfile-1.1.0 openpyxl-3.1.2\n"
          ]
        }
      ],
      "source": [
        "%pip install openpyxl"
      ]
    },
    {
      "cell_type": "code",
      "execution_count": null,
      "metadata": {
        "id": "DyVFy49eHh4H"
      },
      "outputs": [],
      "source": [
        "df.to_excel(\"VoNgocDung_Crawl_Data_Sage_Publisher.xlsx\")"
      ]
    }
  ],
  "metadata": {
    "kernelspec": {
      "display_name": "Python 3 (ipykernel)",
      "language": "python",
      "name": "python3"
    },
    "language_info": {
      "codemirror_mode": {
        "name": "ipython",
        "version": 3
      },
      "file_extension": ".py",
      "mimetype": "text/x-python",
      "name": "python",
      "nbconvert_exporter": "python",
      "pygments_lexer": "ipython3",
      "version": "3.11.4"
    },
    "colab": {
      "provenance": [],
      "include_colab_link": true
    }
  },
  "nbformat": 4,
  "nbformat_minor": 0
}